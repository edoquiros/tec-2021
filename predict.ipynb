{
 "metadata": {
  "language_info": {
   "codemirror_mode": {
    "name": "ipython",
    "version": 3
   },
   "file_extension": ".py",
   "mimetype": "text/x-python",
   "name": "python",
   "nbconvert_exporter": "python",
   "pygments_lexer": "ipython3",
   "version": "3.8.3-final"
  },
  "orig_nbformat": 2,
  "kernelspec": {
   "name": "python3",
   "language": "python",
   "display_name": "Python 3"
  }
 },
 "nbformat": 4,
 "nbformat_minor": 2,
 "cells": [
  {
   "cell_type": "code",
   "execution_count": 1,
   "metadata": {},
   "outputs": [],
   "source": [
    "import numpy as np\n",
    "import matplotlib.pyplot as plt\n",
    "import pandas as pd\n",
    "import random "
   ]
  },
  {
   "cell_type": "code",
   "execution_count": 27,
   "metadata": {},
   "outputs": [],
   "source": [
    "# Group A: Telesecundaria, Educación a Distancia, IPEC, Bachillerato por Madurez\n",
    "# Group B: Colegios técnicos públicos\n",
    "# Group C: Resto de colegios públicos académicos\n",
    "# Group D: Colegios privados y subvencionados\n",
    "groups = {'A': 0.03, 'B': 0.12, 'C': 0.50, 'D': 0.35}\n",
    "provinces = {'SJO': 0.3, 'ALA': 0.2, 'CAR': 0.3, 'HER': 0.06, 'GUA': 0.02, 'PUN': 0.04, 'LIM': 0.08}\n",
    "groups_by_provinces = {'SJO': [0.05, 0.25, 0.55, 0.15],\n",
    "                       'ALA': [0.05, 0.25, 0.60, 0.10],\n",
    "                       'CAR': [0.05, 0.25, 0.60, 0.10],\n",
    "                       'HER': [0.05, 0.25, 0.55, 0.15],\n",
    "                       'GUA': [0.10, 0.20, 0.65, 0.05],\n",
    "                       'PUN': [0.10, 0.20, 0.65, 0.05],\n",
    "                       'LIM': [0.10, 0.20, 0.65, 0.05]}\n",
    "dist_params_by_group = {'A': (70.0, 7), 'B': (80.0, 6), 'C': (80.0, 6), 'D': (80.0, 6)}\n",
    "N = 21830\n",
    "SUBJECT_GRADE = 95.27"
   ]
  },
  {
   "cell_type": "code",
   "execution_count": 23,
   "metadata": {},
   "outputs": [],
   "source": [
    "def gen_province(n):\n",
    "    vals = []\n",
    "    probs = []\n",
    "    for k, v in provinces.items():\n",
    "        vals.append(k)\n",
    "        probs.append(v)\n",
    "    return np.array(random.choices(vals, probs, k=n))\n",
    "\n",
    "def choose_group(prov, prob_map):\n",
    "    return random.choices(['A', 'B', 'C', 'D'], prob_map[prov], k=1)[0]\n",
    "\n",
    "def gen_group(provs, prob_map):\n",
    "    return np.array([choose_group(prov, prob_map) for prov in provs])\n",
    "\n",
    "def grades_distribution(mu, sigma, n):\n",
    "    return np.random.normal(mu, sigma, n)\n",
    "\n",
    "def norm(x, s_mean, s_std, y_max):\n",
    "    return (((((x - s_mean) / s_std) * 100) + 500) * 800) / y_max\n",
    "\n",
    "def get_y_max(s):\n",
    "    return (((s.max() - s.mean()) / s.std()) * 100) + 500\n",
    "\n",
    "def normalize_grades(s):\n",
    "    return s.apply(lambda x: norm(x, s.mean(), s.std(), get_y_max(s)))\n",
    "\n",
    "def gen_grades(df, params):\n",
    "    for group in ['A', 'B', 'C', 'D']:\n",
    "        print (f\"Generating grades for group {group}\")\n",
    "        mu, sigma = params[group]\n",
    "        target = df.loc[df.group == group, 'grade']\n",
    "        grades = pd.Series(data=grades_distribution(mu, sigma, len(target)))\n",
    "        grades.index = target.index\n",
    "        df.loc[df.group == group, 'grade'] = grades\n",
    "        df.loc[df.grade > 100, 'grade'] = 100\n",
    "        df.loc[df.group == group, 'normalized'] = normalize_grades(grades)\n",
    "\n",
    "def print_grades_by_group(df):\n",
    "    for group in ['A', 'B', 'C', 'D']:\n",
    "        ser = df.loc[df.group == group, 'grade']\n",
    "        norm = df.loc[df.group == group, 'normalized']\n",
    "        print (f'Group {group} == Min: {ser.min()}, Max: {ser.max()}, Mean: {ser.mean()}, MaxNorm: {norm.max()}\\n')\n",
    "\n",
    "def normalize(df, grade, group):\n",
    "    s = df.loc[df.group == group, 'grade']\n",
    "    return norm(grade, s.mean(), s.std(), get_y_max(s))"
   ]
  },
  {
   "cell_type": "code",
   "execution_count": 26,
   "metadata": {},
   "outputs": [],
   "source": [
    "def generate_dataframe():\n",
    "    prov_data = gen_province(N)\n",
    "    group_data = gen_group(prov_data, groups_by_provinces)\n",
    "    tec = pd.DataFrame(data={'province': prov_data, 'group': group_data})\n",
    "    tec['grade'] = 0.0\n",
    "    tec['normalized'] = 0.0\n",
    "    gen_grades(tec, dist_params_by_group)\n",
    "    return tec\n",
    "\n",
    "def rank(df, grade, grp, prov = 'CAR'):\n",
    "    flt = df[df.group == grp]\n",
    "    group_total = len(flt)\n",
    "    bottom_in_group = len(flt[flt.normalized < grade])\n",
    "    flt = flt[flt.province == prov]\n",
    "    prov_total = len(flt)\n",
    "    bottom_in_prov = len(flt[flt.normalized < grade])\n",
    "    print(f'Grade {grade} is greater than {(bottom_in_group/group_total) * 100.0} % of the entire group ({bottom_in_group} / {group_total})')\n",
    "    print(f'Grade {grade} is greater than {(bottom_in_prov/prov_total) * 100.0} % of the group/province ({bottom_in_prov} / {prov_total})')"
   ]
  },
  {
   "cell_type": "code",
   "execution_count": 28,
   "metadata": {},
   "outputs": [
    {
     "name": "stdout",
     "output_type": "stream",
     "text": [
      "Generating grades for group A\n",
      "Generating grades for group B\n",
      "Generating grades for group C\n",
      "Generating grades for group D\n",
      "Grade 727.0400945311414 is greater than 99.49135300101729 % of the entire group (12714 / 12779)\n",
      "Grade 727.0400945311414 is greater than 99.46332737030411 % of the group/province (3892 / 3913)\n"
     ]
    }
   ],
   "source": [
    "tec_df = generate_dataframe()\n",
    "tec_df.head()\n",
    "norm_grade = normalize(tec_df, SUBJECT_GRADE, 'C')\n",
    "rank(tec_df, norm_grade, 'C')"
   ]
  },
  {
   "cell_type": "code",
   "execution_count": null,
   "outputs": [],
   "source": [],
   "metadata": {
    "collapsed": false,
    "pycharm": {
     "name": "#%%\n"
    }
   }
  }
 ]
}