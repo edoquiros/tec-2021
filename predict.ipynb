{
 "metadata": {
  "language_info": {
   "codemirror_mode": {
    "name": "ipython",
    "version": 3
   },
   "file_extension": ".py",
   "mimetype": "text/x-python",
   "name": "python",
   "nbconvert_exporter": "python",
   "pygments_lexer": "ipython3",
   "version": "3.8.3-final"
  },
  "orig_nbformat": 2,
  "kernelspec": {
   "name": "python3",
   "language": "python",
   "display_name": "Python 3"
  }
 },
 "nbformat": 4,
 "nbformat_minor": 2,
 "cells": [
  {
   "cell_type": "code",
   "execution_count": 1,
   "metadata": {},
   "outputs": [],
   "source": [
    "import numpy as np\n",
    "import matplotlib.pyplot as plt\n",
    "import pandas as pd\n",
    "import random "
   ]
  },
  {
   "cell_type": "code",
   "execution_count": 2,
   "metadata": {},
   "outputs": [
    {
     "name": "stdout",
     "output_type": "stream",
     "text": [
      "Sum of career probs: 1.0\n"
     ]
    }
   ],
   "source": [
    "# Group A: Telesecundaria, Educación a Distancia, IPEC, Bachillerato por Madurez\n",
    "# Group B: Colegios técnicos públicos\n",
    "# Group C: Resto de colegios públicos académicos\n",
    "# Group D: Colegios privados y subvencionados\n",
    "groups = {'A': 0.03, 'B': 0.12, 'C': 0.50, 'D': 0.35}\n",
    "provinces = {'SJO': 0.286, 'ALA': 0.243, 'CAR': 0.17, 'HER': 0.092, 'GUA': 0.058, 'PUN': 0.047, 'LIM': 0.104}\n",
    "assert sum(provinces.values()) == 1.0\n",
    "groups_by_provinces = {'SJO': [0.07, 0.22, 0.61, 0.10],\n",
    "                       'ALA': [0.07, 0.22, 0.61, 0.10],\n",
    "                       'CAR': [0.07, 0.22, 0.61, 0.10],\n",
    "                       'HER': [0.07, 0.22, 0.61, 0.10],\n",
    "                       'GUA': [0.07, 0.22, 0.61, 0.10],\n",
    "                       'PUN': [0.07, 0.22, 0.61, 0.10],\n",
    "                       'LIM': [0.07, 0.22, 0.61, 0.10]}\n",
    "dist_params_by_group = {'A': (75.0, 5), 'B': (85.0, 4), 'C': (85.0, 4), 'D': (85.0, 4)}\n",
    "careers = {\n",
    "    'ADMIN': 0.025,\n",
    "    'ATI': 0.027,\n",
    "    'ARQUI': 0.026,\n",
    "    'ENSEMATE': 0.006,\n",
    "    'AGRONOMIA': 0.008,\n",
    "    'AGRONEG': 0.003,\n",
    "    'AMBIENTAL': 0.030,\n",
    "    'BIOTEC': 0.165,\n",
    "    'COMPU': 0.112,\n",
    "    'COMPUT': 0.045,\n",
    "    'CONSTRU': 0.047,\n",
    "    'SEGURIDAD': 0.006,\n",
    "    'ELEC': 0.043,\n",
    "    'MANTE': 0.101,\n",
    "    'MATERIALES': 0.035,\n",
    "    'FISICA': 0.067,\n",
    "    'FORES': 0.008,\n",
    "    'MECA': 0.085,\n",
    "    'PRODU': 0.098,\n",
    "    'DISENO': 0.063\n",
    "}\n",
    "print (f'Sum of career probs: {sum([v for k, v in careers.items()])}')\n",
    "\n",
    "offering = {\n",
    "    'ADMIN': 0.025,\n",
    "    'ATI': 0.027,\n",
    "    'ARQUI': 0.026,\n",
    "    'ENSEMATE': 0.006,\n",
    "    'AGRONOMIA': 0.008,\n",
    "    'AGRONEG': 0.003,\n",
    "    'AMBIENTAL': 0.030,\n",
    "    'BIOTEC': 0.165,\n",
    "    'COMPU': 0.112,\n",
    "    'COMPUT': 0.045,\n",
    "    'CONSTRU': 0.047,\n",
    "    'SEGURIDAD': 0.006,\n",
    "    'ELEC': 0.043,\n",
    "    'MANTE': 0.101,\n",
    "    'MATERIALES': 0.035,\n",
    "    'FISICA': 0.067,\n",
    "    'FORES': 0.008,\n",
    "    'MECA': 0.085,\n",
    "    'PRODU': 0.098,\n",
    "    'DISENO': 0.063\n",
    "}\n",
    "\n",
    "N = 21830\n",
    "SUBJECT_GRADE = 95.27"
   ]
  },
  {
   "cell_type": "code",
   "execution_count": 4,
   "metadata": {},
   "outputs": [],
   "source": [
    "def gen_province(n):\n",
    "    vals = []\n",
    "    probs = []\n",
    "    for k, v in provinces.items():\n",
    "        vals.append(k)\n",
    "        probs.append(v)\n",
    "    return np.array(random.choices(vals, probs, k=n))\n",
    "\n",
    "def choose_group(prov, prob_map):\n",
    "    return random.choices(['A', 'B', 'C', 'D'], prob_map[prov], k=1)[0]\n",
    "\n",
    "def gen_group(provs, prob_map):\n",
    "    return np.array([choose_group(prov, prob_map) for prov in provs])\n",
    "\n",
    "def grades_distribution(mu, sigma, n):\n",
    "    return np.random.normal(mu, sigma, n)\n",
    "\n",
    "def norm(x, s_mean, s_std, y_max):\n",
    "    return (((((x - s_mean) / s_std) * 100) + 500) * 800) / y_max\n",
    "\n",
    "def get_y_max(s):\n",
    "    return (((s.max() - s.mean()) / s.std()) * 100) + 500\n",
    "\n",
    "def normalize_grades(s):\n",
    "    return s.apply(lambda x: norm(x, s.mean(), s.std(), get_y_max(s)))\n",
    "\n",
    "def gen_grades(df, params):\n",
    "    for group in ['A', 'B', 'C', 'D']:\n",
    "        print (f\"Generating grades for group {group}\")\n",
    "        mu, sigma = params[group]\n",
    "        target = df.loc[df.group == group, 'grade']\n",
    "        grades = pd.Series(data=grades_distribution(mu, sigma, len(target)))\n",
    "        print(f'Stats for grade group {group} -- Max: {grades.max()}, Min: {grades.min()}, Avg: {grades.mean()}, Std: {grades.std()}')\n",
    "        grades.index = target.index\n",
    "        df.loc[df.group == group, 'grade'] = grades\n",
    "        df.loc[df.grade > 100, 'grade'] = 100\n",
    "        df.loc[df.group == group, 'normalized'] = normalize_grades(grades)\n",
    "\n",
    "def print_grades_by_group(df):\n",
    "    for group in ['A', 'B', 'C', 'D']:\n",
    "        ser = df.loc[df.group == group, 'grade']\n",
    "        norm = df.loc[df.group == group, 'normalized']\n",
    "        print (f'Group {group} == Min: {ser.min()}, Max: {ser.max()}, Mean: {ser.mean()}, MaxNorm: {norm.max()}\\n')\n",
    "\n",
    "def normalize(df, grade, group):\n",
    "    s = df.loc[df.group == group, 'grade']\n",
    "    return norm(grade, s.mean(), s.std(), get_y_max(s))"
   ]
  },
  {
   "cell_type": "code",
   "execution_count": 5,
   "metadata": {},
   "outputs": [],
   "source": [
    "def generate_dataframe():\n",
    "    prov_data = gen_province(N)\n",
    "    group_data = gen_group(prov_data, groups_by_provinces)\n",
    "    tec = pd.DataFrame(data={'province': prov_data, 'group': group_data})\n",
    "    tec['grade'] = 0.0\n",
    "    tec['normalized'] = 0.0\n",
    "    gen_grades(tec, dist_params_by_group)\n",
    "    return tec\n",
    "\n",
    "def rank(df, grade, grp, prov = 'CAR'):\n",
    "    flt = df[df.group == grp]\n",
    "    group_total = len(flt)\n",
    "    bottom_in_group = len(flt[flt.normalized < grade])\n",
    "    flt = flt[flt.province == prov]\n",
    "    prov_total = len(flt)\n",
    "    bottom_in_prov = len(flt[flt.normalized < grade])\n",
    "    print(f'Grade {grade} is greater than {(bottom_in_group/group_total) * 100.0} % of the entire group ({bottom_in_group} / {group_total})')\n",
    "    print(f'Grade {grade} is greater than {(bottom_in_prov/prov_total) * 100.0} % of the group/province ({bottom_in_prov} / {prov_total})')"
   ]
  },
  {
   "cell_type": "code",
   "execution_count": 11,
   "metadata": {},
   "outputs": [
    {
     "name": "stdout",
     "output_type": "stream",
     "text": [
      "Generating grades for group A\n",
      "Stats for grade group A -- Max: 92.00567473562806, Min: 60.79904576071662, Avg: 75.03197991939979, Std: 5.023759175207458\n",
      "Generating grades for group B\n",
      "Stats for grade group B -- Max: 98.68344752690113, Min: 69.87806431043619, Avg: 84.97871301733522, Std: 3.999090540657924\n",
      "Generating grades for group C\n",
      "Stats for grade group C -- Max: 101.59849632761973, Min: 66.65983132634223, Avg: 84.96148355294605, Std: 4.003145656828993\n",
      "Generating grades for group D\n",
      "Stats for grade group D -- Max: 98.14993408584498, Min: 64.07257576604093, Avg: 85.04951954220974, Std: 3.985544185115524\n",
      "Grade 692.0424627059292 is greater than 99.84293193717278 % of the entire group (13349 / 13370)\n",
      "Grade 692.0424627059292 is greater than 99.82308712958867 % of the group/province (2257 / 2261)\n"
     ]
    }
   ],
   "source": [
    "tec_df = generate_dataframe()\n",
    "tec_df.head()\n",
    "norm_grade = normalize(tec_df, SUBJECT_GRADE, 'C')\n",
    "rank(tec_df, norm_grade, 'C')"
   ]
  },
  {
   "cell_type": "code",
   "execution_count": null,
   "outputs": [],
   "source": [],
   "metadata": {
    "collapsed": false,
    "pycharm": {
     "name": "#%%\n"
    }
   }
  }
 ]
}