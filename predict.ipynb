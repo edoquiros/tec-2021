{
 "metadata": {
  "language_info": {
   "codemirror_mode": {
    "name": "ipython",
    "version": 3
   },
   "file_extension": ".py",
   "mimetype": "text/x-python",
   "name": "python",
   "nbconvert_exporter": "python",
   "pygments_lexer": "ipython3",
   "version": "3.8.3-final"
  },
  "orig_nbformat": 2,
  "kernelspec": {
   "name": "python3",
   "language": "python",
   "display_name": "Python 3"
  }
 },
 "nbformat": 4,
 "nbformat_minor": 2,
 "cells": [
  {
   "cell_type": "code",
   "execution_count": 1,
   "metadata": {},
   "outputs": [],
   "source": [
    "import numpy as np\n",
    "import matplotlib.pyplot as plt\n",
    "import pandas as pd\n",
    "import random "
   ]
  },
  {
   "cell_type": "code",
   "execution_count": 26,
   "metadata": {},
   "outputs": [],
   "source": [
    "# Group A: Telesecundaria, Educación a Distancia, IPEC, Bachillerato por Madurez\n",
    "# Group B: Colegios técnicos públicos\n",
    "# Group C: Resto de colegios públicos académicos\n",
    "# Group D: Colegios privados y subvencionados\n",
    "groups = {'A': 0.03, 'B': 0.12, 'C': 0.50, 'D': 0.35}\n",
    "provinces = {'SJO': 0.3, 'ALA': 0.2, 'CAR': 0.3, 'HER': 0.06, 'GUA': 0.02, 'PUN': 0.04, 'LIM': 0.08}\n",
    "groups_by_provinces = {'SJO': [0.05, 0.25, 0.55, 0.15],\n",
    "                       'ALA': [0.05, 0.25, 0.60, 0.10],\n",
    "                       'CAR': [0.05, 0.25, 0.60, 0.10],\n",
    "                       'HER': [0.05, 0.25, 0.55, 0.15],\n",
    "                       'GUA': [0.10, 0.20, 0.65, 0.05],\n",
    "                       'PUN': [0.10, 0.20, 0.65, 0.05],\n",
    "                       'LIM': [0.10, 0.20, 0.65, 0.05]}\n",
    "dist_params_by_group = {'A': (70.0, 7), 'B': (80.0, 6), 'C': (75.0, 6), 'D': (80.0, 6)}\n",
    "N = 21830"
   ]
  },
  {
   "cell_type": "code",
   "execution_count": 32,
   "metadata": {},
   "outputs": [],
   "source": [
    "def gen_province(n):\n",
    "    vals = []\n",
    "    probs = []\n",
    "    for k, v in provinces.items():\n",
    "        vals.append(k)\n",
    "        probs.append(v)\n",
    "    return np.array(random.choices(vals, probs, k=n))\n",
    "\n",
    "def choose_group(prov, prob_map):\n",
    "    return random.choices(['A', 'B', 'C', 'D'], prob_map[prov], k=1)[0]\n",
    "\n",
    "def gen_group(provs, prob_map):\n",
    "    return np.array([choose_group(prov, prob_map) for prov in provs])\n",
    "\n",
    "def grades_distribution(mu, sigma, n):\n",
    "    return np.random.normal(mu, sigma, n)\n",
    "\n",
    "def norm(x, s_mean, s_std, y_max):\n",
    "    return (((((x - s_mean) / s_std) * 100) + 500) * 800) / y_max\n",
    "\n",
    "def normalize(s):\n",
    "    s_max = s.max()\n",
    "    s_mean = s.mean()\n",
    "    s_std = s.std()\n",
    "    y_max = (((s_max - s_mean) / s_std) * 100) + 500\n",
    "    return s.apply(lambda x: norm(x, s_mean, s_std, y_max))\n",
    "\n",
    "def gen_grades(df, params):\n",
    "    for group in ['A', 'B', 'C', 'D']:\n",
    "        print (f\"Processing Group {group}\")\n",
    "        mu, sigma = params[group]\n",
    "        target = df.loc[df.group == group, 'grade']\n",
    "        grades = pd.Series(data=grades_distribution(mu, sigma, len(target)))\n",
    "        grades.index = target.index\n",
    "        df.loc[df.group == group, 'grade'] = grades\n",
    "        df.loc[df.grade > 100, 'grade'] = 100\n",
    "        df.loc[df.group == group, 'normalized'] = normalize(grades)\n",
    "\n",
    "def print_grades_by_group(df):\n",
    "    for group in ['A', 'B', 'C', 'D']:\n",
    "        ser = df.loc[df.group == group, 'grade']\n",
    "        norm = df.loc[df.group == group, 'normalized']\n",
    "        print (f'Group {group} == Min: {ser.min()}, Max: {ser.max()}, Mean: {ser.mean()}, MaxNorm: {norm.max()}\\n')"
   ]
  },
  {
   "cell_type": "code",
   "execution_count": 35,
   "metadata": {},
   "outputs": [
    {
     "name": "stdout",
     "output_type": "stream",
     "text": [
      "Processing Group A\n",
      "Processing Group B\n",
      "Processing Group C\n",
      "Processing Group D\n",
      "Group A == Min: 46.825258502122665, Max: 93.41544205499244, Mean: 69.97317400809635, MaxNorm: 800.0\n",
      "\n",
      "Group B == Min: 57.055034166583184, Max: 98.17253521225219, Mean: 79.9897403905671, MaxNorm: 800.0\n",
      "\n",
      "Group C == Min: 54.334279632575026, Max: 95.95230487631085, Mean: 74.99945011858269, MaxNorm: 800.0\n",
      "\n",
      "Group D == Min: 60.68901989635955, Max: 100.0, Mean: 80.1741666825561, MaxNorm: 800.0\n",
      "\n"
     ]
    },
    {
     "data": {
      "text/plain": "  province group      grade  normalized\n0      LIM     A  72.851189  517.938967\n1      LIM     B  85.578586  590.554664\n2      CAR     A  78.301700  592.698629\n3      ALA     C  70.240631  397.360852\n4      CAR     B  75.351516  420.472018",
      "text/html": "<div>\n<style scoped>\n    .dataframe tbody tr th:only-of-type {\n        vertical-align: middle;\n    }\n\n    .dataframe tbody tr th {\n        vertical-align: top;\n    }\n\n    .dataframe thead th {\n        text-align: right;\n    }\n</style>\n<table border=\"1\" class=\"dataframe\">\n  <thead>\n    <tr style=\"text-align: right;\">\n      <th></th>\n      <th>province</th>\n      <th>group</th>\n      <th>grade</th>\n      <th>normalized</th>\n    </tr>\n  </thead>\n  <tbody>\n    <tr>\n      <th>0</th>\n      <td>LIM</td>\n      <td>A</td>\n      <td>72.851189</td>\n      <td>517.938967</td>\n    </tr>\n    <tr>\n      <th>1</th>\n      <td>LIM</td>\n      <td>B</td>\n      <td>85.578586</td>\n      <td>590.554664</td>\n    </tr>\n    <tr>\n      <th>2</th>\n      <td>CAR</td>\n      <td>A</td>\n      <td>78.301700</td>\n      <td>592.698629</td>\n    </tr>\n    <tr>\n      <th>3</th>\n      <td>ALA</td>\n      <td>C</td>\n      <td>70.240631</td>\n      <td>397.360852</td>\n    </tr>\n    <tr>\n      <th>4</th>\n      <td>CAR</td>\n      <td>B</td>\n      <td>75.351516</td>\n      <td>420.472018</td>\n    </tr>\n  </tbody>\n</table>\n</div>"
     },
     "execution_count": 35,
     "metadata": {},
     "output_type": "execute_result"
    }
   ],
   "source": [
    "prov_data = gen_province(N)\n",
    "group_data = gen_group(prov_data, groups_by_provinces)\n",
    "tec = pd.DataFrame(data={'province': prov_data, 'group': group_data})\n",
    "tec['grade'] = 0.0\n",
    "tec['normalized'] = 0.0\n",
    "gen_grades(tec, dist_params_by_group)\n",
    "group_a = tec.loc[tec.group == 'A', 'grade']\n",
    "print_grades_by_group(tec)\n",
    "normalized = tec['normalized']\n",
    "tec.head()\n"
   ]
  },
  {
   "cell_type": "code",
   "execution_count": null,
   "metadata": {},
   "outputs": [],
   "source": []
  }
 ]
}